{
 "cells": [
  {
   "cell_type": "markdown",
   "metadata": {},
   "source": [
    "# TA session #01: simple salary prediction model of hitters"
   ]
  },
  {
   "cell_type": "markdown",
   "metadata": {},
   "source": [
    "Your team and team members here"
   ]
  },
  {
   "cell_type": "code",
   "execution_count": null,
   "metadata": {},
   "outputs": [],
   "source": [
    "import pandas as pd\n",
    "import numpy as np\n",
    "import seaborn as sns\n",
    "import matplotlib.pyplot as plt\n",
    "from matplotlib.colors import ListedColormap\n",
    "from sklearn import neighbors, datasets"
   ]
  },
  {
   "cell_type": "markdown",
   "metadata": {},
   "source": [
    "To exericse variance-bias tradeoff, we use Hitters.csv\n",
    "For details of dataset, see [description](https://rdrr.io/cran/ISLR/man/Hitters.html)"
   ]
  },
  {
   "cell_type": "code",
   "execution_count": null,
   "metadata": {},
   "outputs": [],
   "source": [
    "data = pd.read_csv('Data/Hitters.csv', index_col=0)\n",
    "data.head()"
   ]
  },
  {
   "cell_type": "code",
   "execution_count": null,
   "metadata": {},
   "outputs": [],
   "source": [
    "output = 'Salary'"
   ]
  },
  {
   "cell_type": "markdown",
   "metadata": {},
   "source": [
    "## 1. Preprocessing & EDA (in brief)"
   ]
  },
  {
   "cell_type": "code",
   "execution_count": null,
   "metadata": {},
   "outputs": [],
   "source": [
    "#TODO: evaluate data dimension"
   ]
  },
  {
   "cell_type": "code",
   "execution_count": null,
   "metadata": {},
   "outputs": [],
   "source": [
    "#TODO:summarize data"
   ]
  },
  {
   "cell_type": "code",
   "execution_count": null,
   "metadata": {
    "scrolled": true
   },
   "outputs": [],
   "source": [
    "# TODO:dataset validation (e.g. check whether missing values)"
   ]
  },
  {
   "cell_type": "code",
   "execution_count": null,
   "metadata": {},
   "outputs": [],
   "source": [
    "# TODO: data preprocessing (e.g. handling missing values, one-hot encoding for categorical variables, normalization...)"
   ]
  },
  {
   "cell_type": "code",
   "execution_count": null,
   "metadata": {},
   "outputs": [],
   "source": [
    "# TODO:looking output (dependent) variable  (e.g. box-ploting, histogram)\n"
   ]
  },
  {
   "cell_type": "code",
   "execution_count": null,
   "metadata": {},
   "outputs": [],
   "source": [
    "#TODO: looking for correlations (use pairplot)\n"
   ]
  },
  {
   "cell_type": "code",
   "execution_count": null,
   "metadata": {},
   "outputs": [],
   "source": [
    "# TODO: feature selection (you can also choose any two features which are correlated in output variable )\n",
    "\n",
    "features = ['AtBat', 'CRuns']"
   ]
  },
  {
   "cell_type": "markdown",
   "metadata": {},
   "source": [
    "Describe your opinions after EDA "
   ]
  },
  {
   "cell_type": "markdown",
   "metadata": {},
   "source": [
    "## 2. Training data generation - train/test split"
   ]
  },
  {
   "cell_type": "code",
   "execution_count": null,
   "metadata": {},
   "outputs": [],
   "source": [
    "from sklearn.model_selection import train_test_split\n",
    "X = data[features]\n",
    "y = np.array([int(i > 425) for i in data[output]])\n",
    "X_train, X_test, y_train, y_test = train_test_split(X, y, test_size=0.2, random_state=1008)"
   ]
  },
  {
   "cell_type": "markdown",
   "metadata": {},
   "source": [
    "## 3. KNN model tuning (regarding model flexibility)"
   ]
  },
  {
   "cell_type": "markdown",
   "metadata": {},
   "source": [
    "Here is a function to plot K-Nearest Neighbors.\n",
    "\n",
    "You can invoke the function with 3 mandatory parameters:\n",
    "\n",
    "- n_neighbors : number of neighbors which is reated to the model plexibility\n",
    "- predictor_1: name of feature which will be shown in x-axis\n",
    "- predictor_2: name of feature which will be shown in y-axis"
   ]
  },
  {
   "cell_type": "code",
   "execution_count": null,
   "metadata": {},
   "outputs": [],
   "source": [
    "def knnclassifier(n_neighbors, predictor_1, predictor_2, X=X, y=y, X_test=X_test, y_test=y_test):\n",
    "    \n",
    "    clf = neighbors.KNeighborsClassifier(n_neighbors)\n",
    "    clf.fit(X, y)\n",
    "    y_pred = clf.predict(X)\n",
    "\n",
    "    h = 0.5\n",
    "\n",
    "    cmap_light = ListedColormap(['#FFAAAA', '#AAFFAA'])\n",
    "    cmap_bold = ListedColormap(['#FF0000', '#00FF00'])\n",
    "    cmap = ListedColormap(['magenta', 'darkblue'])\n",
    "\n",
    "    x_min, x_max = X[predictor_1].min() - 1, X[predictor_1].max() + 1\n",
    "    y_min, y_max = X[predictor_2].min() - 1, X[predictor_2].max() + 1\n",
    "    xx, yy = np.meshgrid(np.arange(x_min, x_max, h), np.arange(y_min, y_max, h))\n",
    "    Z = clf.predict(np.c_[xx.ravel(), yy.ravel()]).reshape(xx.shape)\n",
    "\n",
    "    score = clf.score(data[[predictor_1, predictor_2]].iloc[:10], \n",
    "                      np.array([int(i > 425) for i in data['Salary'].iloc[:10]]))\n",
    "    \n",
    "    plt.figure(figsize=(10, 6))\n",
    "    plt.pcolormesh(xx, yy, Z, cmap=cmap_light)\n",
    "    plt.scatter(X[predictor_1], X[predictor_2], c=y, cmap=cmap_bold, s=10, label='Train')\n",
    "    plt.scatter(X_test[predictor_1], X_test[predictor_2], c=y_test, cmap=cmap, s=25, marker='x', label='Test')\n",
    "    plt.title('K=%i, Accuracy=%.2f' %(n_neighbors, score))\n",
    "    plt.xlim(xx.min(), xx.max())\n",
    "    plt.ylim(yy.min(), yy.max())\n",
    "    plt.xlabel(predictor_1)\n",
    "    plt.ylabel(predictor_2)\n",
    "    \n",
    "    plt.legend(loc='best')\n",
    "    plt.show()"
   ]
  },
  {
   "cell_type": "code",
   "execution_count": null,
   "metadata": {
    "scrolled": false
   },
   "outputs": [],
   "source": [
    "# TODO: Show how the number of neighbors takes effect on the decision boundary. \n"
   ]
  },
  {
   "cell_type": "markdown",
   "metadata": {},
   "source": [
    "## 4. 5-fold Cross Validation"
   ]
  },
  {
   "cell_type": "code",
   "execution_count": null,
   "metadata": {},
   "outputs": [],
   "source": [
    "from sklearn.model_selection import cross_val_score\n",
    "import numpy as np\n",
    "\n",
    "n_neighbors  = 1\n",
    "knn_cv = neighbors.KNeighborsClassifier(n_neighbors=n_neighbors)\n",
    "knn_cv.fit(X, y)\n",
    "\n",
    "cv_scores = cross_val_score(knn_cv, X, y, cv=5)\n",
    "\n",
    "print(\"k: {}, cv_scores mean:{}\".format(n_neighbors, np.mean(cv_scores)))\n",
    "print(knn_cv.score(X_test, y_test))"
   ]
  },
  {
   "cell_type": "code",
   "execution_count": null,
   "metadata": {},
   "outputs": [],
   "source": [
    "#additional exercise: use of Grid search CV\n",
    "from sklearn.model_selection import GridSearchCV\n",
    "\n",
    "# TODO:invoke GridSearchCV to find the best n_neighbors"
   ]
  },
  {
   "cell_type": "markdown",
   "metadata": {},
   "source": [
    "Describe how many the number of neighbors will be proper here"
   ]
  },
  {
   "cell_type": "markdown",
   "metadata": {},
   "source": [
    "## 5. Checking fitness of model"
   ]
  },
  {
   "cell_type": "code",
   "execution_count": null,
   "metadata": {
    "scrolled": true
   },
   "outputs": [],
   "source": [
    "k = [] # list for number of neighbors\n",
    "acc = [] # test accuracies per each number of neighbors\n",
    "acc_train = [] # train accuracies per each number of neighbors\n",
    "\n",
    "# TODO: fill-in the values into above lists"
   ]
  },
  {
   "cell_type": "code",
   "execution_count": null,
   "metadata": {},
   "outputs": [],
   "source": [
    "# TODO: plot here\n",
    "markers_on = [np.argmax(acc)]\n",
    "\n",
    "plt.figure(figsize=(10, 7))\n",
    "plt.plot(k, acc_train, label='Train')\n",
    "plt.plot(k, acc, '-gD', markevery=markers_on, c='orange', label='Test')\n",
    "plt.legend(fontsize=15)\n",
    "plt.xlabel('K', size=20)\n",
    "plt.ylabel('Accuracy', size=20)\n",
    "plt.show()"
   ]
  },
  {
   "cell_type": "markdown",
   "metadata": {},
   "source": [
    "Describe your answers here"
   ]
  },
  {
   "cell_type": "markdown",
   "metadata": {},
   "source": [
    "## Summary"
   ]
  },
  {
   "cell_type": "code",
   "execution_count": null,
   "metadata": {},
   "outputs": [],
   "source": [
    "Describe overall comment here"
   ]
  }
 ],
 "metadata": {
  "kernelspec": {
   "display_name": "Python 3",
   "language": "python",
   "name": "python3"
  },
  "language_info": {
   "codemirror_mode": {
    "name": "ipython",
    "version": 3
   },
   "file_extension": ".py",
   "mimetype": "text/x-python",
   "name": "python",
   "nbconvert_exporter": "python",
   "pygments_lexer": "ipython3",
   "version": "3.7.3"
  }
 },
 "nbformat": 4,
 "nbformat_minor": 2
}
